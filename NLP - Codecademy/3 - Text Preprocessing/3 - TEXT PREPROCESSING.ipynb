{
 "cells": [
  {
   "cell_type": "markdown",
   "metadata": {},
   "source": [
    "# Introduction\n",
    "\n",
    "Text preprocessing is an approach for cleaning and preparing text data for use in a specific context. Developers use it in almost all natural language processing (NLP) pipelines, including voice recognition software, search engine lookup, and machine learning model training. It is an essential step because text data can vary. From its format (website, text message, voice recognition) to the people who create the text (language, dialect), there are plenty of things that can introduce noise into your data.\n",
    "\n",
    "The ultimate goal of cleaning and preparing text data is to reduce the text to only the words that you need for your NLP goals.\n",
    "\n",
    "In this lesson, you will learn strategies for preparing text data. While this list is not exhaustive, we will cover a few common approaches for cleaning and processing text data. They include:\n",
    "\n",
    "- Using Regex & NLTK libraries\n",
    "- Removing unnecessary characters and formatting\n",
    "- Tokenization – break multi-word strings into smaller components\n",
    "- Normalization – a catch-all term for processing data; this includes stemming and lemmatization\n"
   ]
  },
  {
   "cell_type": "markdown",
   "metadata": {},
   "source": [
    "![NLP](https://codecademy-content.s3.amazonaws.com/programs/chatbots/text-preprocessing/text-preprocessing-introduction.gif \"NLP\")"
   ]
  },
  {
   "cell_type": "markdown",
   "metadata": {},
   "source": [
    "### 1 - Noise Removal\n",
    "\n",
    "Text cleaning is a technique that developers use in a variety of domains. Depending on the goal of your project and where you get your data from, you may want to remove unwanted information, such as:\n",
    "\n",
    "- punctuation and accents\n",
    "- special characters\n",
    "- numeric digits\n",
    "- leading, ending, and vertical whitespace\n",
    "- HTML formatting\n",
    "- The type of noise that you need to remove from text usually depends on its source. For example, you could access data via the - Twitter API, scraping a webpage, or voice recognition software. Fortunately, you can use the .sub() method in Python’s regular expression (re) library for most of your noise removal needs.\n",
    "\n",
    "The .sub() method has three required arguments:\n",
    "\n",
    "- pattern – a regular expression that is searched for in the input string. There must be an r preceding the string to indicate it is a raw string, which treats backslashes as literal characters.\n",
    "- replacement_text – text that replaces all matches in the input string\n",
    "- input – the input string that will be edited by the .sub() method\n",
    "\n",
    "The method returns a string with all instances of the pattern replaced by the replacement_text. Let’s see a few examples of using this method to remove and replace text from a string.\n",
    "\n",
    "Examples\n",
    "First, let’s consider how to remove HTML <p> tags from a string:\n",
    "\n",
    "import re <br>\n",
    "text = \"\\p>This is a paragraph\\/p>\" <br>\n",
    "result = re.sub(r'<.?p>', '', text)<br>\n",
    "print(result) <br>\n",
    "\n",
    "Notice, we replace the tags with an empty string ''. This is a common approach for removing text.\n",
    "\n",
    "Next, let’s remove the whitespace from the beginning of the text. The whitespace consists of four spaces.\n",
    "\n",
    "import re \n",
    "\n",
    "text = \"    This is a paragraph\" \n",
    "\n",
    "result = re.sub(r'\\s{4}', '', text)\n",
    "\n",
    "print(result) \n",
    "Outputs: This is a paragraph"
   ]
  },
  {
   "cell_type": "code",
   "execution_count": 1,
   "metadata": {},
   "outputs": [
    {
     "name": "stdout",
     "output_type": "stream",
     "text": [
      "Nation's Top Pseudoscientists Harness High-Energy Quartz Crystal Capable Of Reversing Effects Of Being Gemini\n",
      "fat_meats, veggies are better than you think.\n"
     ]
    }
   ],
   "source": [
    "# 1 - Noise Removal\n",
    "\n",
    "import re\n",
    "\n",
    "headline_one = '<h1>Nation\\'s Top Pseudoscientists Harness High-Energy Quartz Crystal Capable Of Reversing Effects Of Being Gemini</h1>'\n",
    "\n",
    "tweet = '@fat_meats, veggies are better than you think.'\n",
    "\n",
    "headline_no_tag = re.sub(r'<.?h1>', '', headline_one)\n",
    "\n",
    "tweet_no_at = re.sub(r'@', '', tweet)\n",
    "\n",
    "try:\n",
    "    print(headline_no_tag)\n",
    "except:\n",
    "    print('No variable called `headline_no_tag`')\n",
    "try:\n",
    "    print(tweet_no_at)\n",
    "except:\n",
    "    print('No variable called `tweet_no_at`')"
   ]
  },
  {
   "cell_type": "markdown",
   "metadata": {},
   "source": [
    "### 2 - Tokenization\n",
    "\n",
    "For many natural language processing tasks, we need access to each word in a string. To access each word, we first have to break the text into smaller components. The method for breaking text into smaller components is called tokenization and the individual components are called tokens.\n",
    "\n",
    "A few common operations that require tokenization include:\n",
    "\n",
    "- Finding how many words or sentences appear in text\n",
    "- Determining how many times a specific word or phrase exists\n",
    "- Accounting for which terms are likely to co-occur\n",
    "- While tokens are usually individual words or terms, they can also be sentences or other size pieces of text.\n",
    "\n",
    "To tokenize individual words, we can use nltk‘s word_tokenize() function. The function accepts a string and returns a list of words:\n",
    "\n",
    "from nltk.tokenize import word_tokenize<br>\n",
    "text = \"Tokenize this text\"<br>\n",
    "tokenized = word_tokenize(text)<br>\n",
    "print(tokenized)<br>\n",
    "O/P: [\"Tokenize\", \"this\", \"text\"] <br>\n",
    "\n",
    "To tokenize at the sentence level, we can use sent_tokenize() from the same module.\n",
    "\n",
    "from nltk.tokenize import sent_tokenize<br>\n",
    "text = \"Tokenize this sentence. Also, tokenize this sentence.\"<br>\n",
    "tokenized = sent_tokenize(text)<br>\n",
    "print(tokenized)<br>\n",
    "O/P: ['Tokenize this sentence.', 'Also, tokenize this sentence.']<br>"
   ]
  },
  {
   "cell_type": "code",
   "execution_count": 2,
   "metadata": {},
   "outputs": [
    {
     "name": "stdout",
     "output_type": "stream",
     "text": [
      "Word Tokenization:\n",
      "['An', 'electrocardiogram', 'is', 'used', 'to', 'record', 'the', 'electrical', 'conduction', 'through', 'a', 'person', \"'s\", 'heart', '.', 'The', 'readings', 'can', 'be', 'used', 'to', 'diagnose', 'cardiac', 'arrhythmias', '.']\n",
      "Sentence Tokenization:\n",
      "[\"An electrocardiogram is used to record the electrical conduction through a person's heart.\", 'The readings can be used to diagnose cardiac arrhythmias.']\n"
     ]
    }
   ],
   "source": [
    "# 2 - Tokenisation\n",
    "\n",
    "# Tokenization is applied to break strings into individual words or sentences / Tokenization is when a string is broken into a list of substrings.\n",
    "\n",
    "from nltk.tokenize import sent_tokenize\n",
    "from nltk.tokenize import word_tokenize\n",
    "\n",
    "ecg_text = 'An electrocardiogram is used to record the electrical conduction through a person\\'s heart. The readings can be used to diagnose cardiac arrhythmias.'\n",
    "\n",
    "tokenized_by_word = word_tokenize(ecg_text)\n",
    "tokenized_by_sentence = sent_tokenize(ecg_text)\n",
    "\n",
    "try:\n",
    "    print('Word Tokenization:')\n",
    "    print(tokenized_by_word)\n",
    "except:\n",
    "    print('Expected a variable called `tokenized_by_word`')\n",
    "try:\n",
    "    print('Sentence Tokenization:')\n",
    "    print(tokenized_by_sentence)\n",
    "except:\n",
    "    print('Expected a variable called `tokenized_by_sentence`')"
   ]
  },
  {
   "cell_type": "markdown",
   "metadata": {},
   "source": [
    "### 3 - Normalization\n",
    "\n",
    "Tokenization and noise removal are staples of almost all text pre-processing pipelines. However, some data may require further processing through text normalization. Text normalization is a catch-all term for various text pre-processing tasks. In the next few exercises, we’ll cover a few of them:\n",
    "\n",
    "- Upper or lowercasing\n",
    "- Stopword removal\n",
    "- Stemming – bluntly removing prefixes and suffixes from a word\n",
    "- Lemmatization – replacing a single-word token with its root\n",
    "\n",
    "The simplest of these approaches is to change the case of a string. We can use Python’s built-in String methods to make a string all uppercase or lowercase:\n",
    "\n",
    "my_string = 'tHiS HaS a MiX oF cAsEs'<br>\n",
    "print(my_string.upper())<br>\n",
    "OP: 'THIS HAS A MIX OF CASES'<br>\n",
    "\n",
    "print(my_string.lower())<br>\n",
    "OP: 'this has a mix of cases'<br>"
   ]
  },
  {
   "cell_type": "code",
   "execution_count": 3,
   "metadata": {},
   "outputs": [
    {
     "name": "stdout",
     "output_type": "stream",
     "text": [
      "Lowercased brands: salvation army, ymca, boys & girls club of america\n",
      "Uppercased brands: SALVATION ARMY, YMCA, BOYS & GIRLS CLUB OF AMERICA\n"
     ]
    }
   ],
   "source": [
    "# 3 - Normalization\n",
    "\n",
    "brands = 'Salvation Army, YMCA, Boys & Girls Club of America'\n",
    "\n",
    "brands_lower = brands.lower()\n",
    "brands_upper = brands.upper()\n",
    "\n",
    "try:\n",
    "    print(f'Lowercased brands: {brands_lower}')\n",
    "except:\n",
    "    print('Expected a variable called `brands_lower`')\n",
    "try:\n",
    "    print(f'Uppercased brands: {brands_upper}')\n",
    "except:\n",
    "    print('Expected a variable called `brands_upper`')"
   ]
  },
  {
   "cell_type": "markdown",
   "metadata": {},
   "source": [
    "### 4 - Stopword Removal\n",
    "Stopwords are words that we remove during preprocessing when we don’t care about sentence structure. They are usually the most common words in a language and don’t provide any information about the tone of a statement. They include words such as “a”, “an”, and “the”.\n",
    "\n",
    "NLTK provides a built-in library with these words. You can import them using the following statement:\n",
    "\n",
    "from nltk.corpus import stopwords <br>\n",
    "stop_words = set(stopwords.words('english')) <br>\n",
    "\n",
    "We create a set with the stop words so we can check if the words are in a list below.\n",
    "\n",
    "Now that we have the words saved to stop_words, we can use tokenization and a list comprehension to remove them from a sentence:\n",
    "\n",
    "nbc_statement = \"NBC was founded in 1926 making it the oldest major broadcast network in the USA\"<br>\n",
    "word_tokens = word_tokenize(nbc_statement) <br>\n",
    "OP: tokenize nbc_statement<br>\n",
    "statement_no_stop = [word for word in word_tokens if word not in stop_words]<br>\n",
    "print(statement_no_stop)<br>\n",
    "OP: ['NBC', 'founded', '1926', 'making', 'oldest', 'major', 'broadcast', 'network', 'USA']<br>\n",
    "\n",
    "In this code, we first tokenized our string, nbc_statement, then used a list comprehension to return a list with all of the stopwords removed."
   ]
  },
  {
   "cell_type": "code",
   "execution_count": 4,
   "metadata": {},
   "outputs": [
    {
     "name": "stdout",
     "output_type": "stream",
     "text": [
      "Stopwords type: <class 'set'>\n",
      "Words Tokenized: ['A', 'YouGov', 'study', 'found', 'that', 'American', \"'s\", 'like', 'Italian', 'food', 'more', 'than', 'any', 'other', 'country', \"'s\", 'cuisine', '.']\n",
      "Text without Stops: ['A', 'YouGov', 'study', 'found', 'American', \"'s\", 'like', 'Italian', 'food', 'country', \"'s\", 'cuisine', '.']\n"
     ]
    }
   ],
   "source": [
    "# 4 - Stopwords Application and Removal\n",
    "\n",
    "from nltk.tokenize import word_tokenize\n",
    "from nltk.corpus import stopwords \n",
    "\n",
    "stop_words = set(stopwords.words('english')) \n",
    "\n",
    "survey_text = 'A YouGov study found that American\\'s like Italian food more than any other country\\'s cuisine.'\n",
    "\n",
    "tokenized_survey = word_tokenize(survey_text)\n",
    "\n",
    "text_no_stops = [word for word in tokenized_survey if word not in stop_words]\n",
    "\n",
    "try:\n",
    "    print(f'Stopwords type: {type(stop_words)}')\n",
    "except:\n",
    "    print('Expected a variable called `stop_words`')\n",
    "try:\n",
    "    print(f'Words Tokenized: {tokenized_survey}')\n",
    "except:\n",
    "    print('Expected a variable called `tokenized_survey`')\n",
    "try:\n",
    "    print(f'Text without Stops: {text_no_stops}')\n",
    "except:\n",
    "    print('Expected a variable called `text_no_stops`')"
   ]
  },
  {
   "cell_type": "markdown",
   "metadata": {},
   "source": [
    "### 5 - Stemming\n",
    "\n",
    "In natural language processing, stemming is the text preprocessing normalization task concerned with bluntly removing word affixes (prefixes and suffixes). For example, stemming would cast the word “going” to “go”. This is a common method used by search engines to improve matching between user input and website hits.\n",
    "\n",
    "NLTK has a built-in stemmer called PorterStemmer. You can use it with a list comprehension to stem each word in a tokenized list of words.\n",
    "\n",
    "First, you must import and initialize the stemmer:\n",
    "\n",
    "from nltk.stem import PorterStemmer <br>\n",
    "stemmer = PorterStemmer()<br>\n",
    "\n",
    "Now that we have our stemmer, we can apply it to each word in a list using a list comprehension:\n",
    "\n",
    "tokenized = ['NBC', 'was', 'founded', 'in', '1926', '.', 'This', 'makes', 'NBC', 'the', 'oldest', 'major', 'broadcast', 'network', '.']<br>\n",
    "stemmed = [stemmer.stem(token) for token in tokenized]<br>\n",
    "print(stemmed)<br>\n",
    "OP: ['nbc', 'wa', 'found', 'in', '1926', '.', 'thi', 'make', 'nbc', 'the', 'oldest', 'major', 'broadcast', 'network', '.']<br>\n",
    "\n",
    "Notice, the words like ‘was’ and ‘founded’ became ‘wa’ and ‘found’, respectively. The fact that these words have been reduced is useful for many language processing applications. However, you need to be careful when stemming strings, because words can often be converted to something unrecognizable."
   ]
  },
  {
   "cell_type": "code",
   "execution_count": 5,
   "metadata": {},
   "outputs": [
    {
     "name": "stdout",
     "output_type": "stream",
     "text": [
      "A stemmer exists:\n",
      "<PorterStemmer>\n",
      "Words Tokenized:\n",
      "['Java', 'is', 'an', 'Indonesian', 'island', 'in', 'the', 'Pacific', 'Ocean', '.', 'It', 'is', 'the', 'most', 'populated', 'island', 'in', 'the', 'world', ',', 'with', 'over', '140', 'million', 'people', '.']\n",
      "Stemmed Words:\n",
      "['java', 'is', 'an', 'indonesian', 'island', 'in', 'the', 'pacif', 'ocean', '.', 'It', 'is', 'the', 'most', 'popul', 'island', 'in', 'the', 'world', ',', 'with', 'over', '140', 'million', 'peopl', '.']\n"
     ]
    }
   ],
   "source": [
    "# 5 - Stemming\n",
    "\n",
    "# Benefits of stemming words instead of lemmatizing them\n",
    "# Stemming is more efficient because it does not require the part of speech for each word.\n",
    "\n",
    "from nltk.tokenize import word_tokenize, sent_tokenize\n",
    "from nltk.stem import PorterStemmer\n",
    "\n",
    "stemmer = PorterStemmer()\n",
    "\n",
    "populated_island = 'Java is an Indonesian island in the Pacific Ocean. It is the most populated island in the world, with over 140 million people.'\n",
    "\n",
    "island_tokenized = word_tokenize(populated_island )\n",
    "\n",
    "stemmed = [stemmer.stem(token) for token in island_tokenized]\n",
    "\n",
    "try:\n",
    "    print('A stemmer exists:')\n",
    "    print(stemmer)\n",
    "except:\n",
    "    print('Expected a variable called `stemmer`')\n",
    "try:\n",
    "    print('Words Tokenized:')\n",
    "    print(island_tokenized)\n",
    "except:\n",
    "    print('Expected a variable called `island_tokenized`')\n",
    "try:\n",
    "    print('Stemmed Words:')\n",
    "    print(stemmed)\n",
    "except:\n",
    "    print('Expected a variable called `stemmed`')\n",
    "  "
   ]
  },
  {
   "cell_type": "markdown",
   "metadata": {},
   "source": [
    "### 6 - Lemmatization\n",
    "\n",
    "Lemmatization is a method for casting words to their root forms. This is a more involved process than stemming, because it requires the method to know the part-of-speech for each word. Since lemmatization requires the part of speech, it is a less efficient approach than stemming.\n",
    "\n",
    "In the next exercise, we will consider how to tag each word with a part of speech. In the meantime, let’s see how to use NLTK’s lemmatize operation.\n",
    "\n",
    "We can use NLTK’s WordNetLemmatizer to lemmatize text:\n",
    "\n",
    "from nltk.stem import WordNetLemmatizer <br>\n",
    "lemmatizer = WordNetLemmatizer()<br>\n",
    "\n",
    "Once we have the lemmatizer initialized, we can use a list comprehension to apply the lemmatize operation to each word in a list:\n",
    "\n",
    "tokenized = [\"NBC\", \"was\", \"founded\", \"in\", \"1926\"]<br>\n",
    "lemmatized = [lemmatizer.lemmatize(token) for token in tokenized]<br>\n",
    "print(lemmatized)<br>\n",
    "OP: [\"NBC\", \"wa\", \"founded\", \"in\", \"1926\"]<br>\n",
    "\n",
    "The result, saved to lemmatized contains 'wa', while the rest of the words remain the same. Not too useful. This happened because lemmatize() treats every word as a noun. To take advantage of the power of lemmatization, we need to tag each word in our text with the most likely part of speech."
   ]
  },
  {
   "cell_type": "code",
   "execution_count": 6,
   "metadata": {},
   "outputs": [
    {
     "name": "stdout",
     "output_type": "stream",
     "text": [
      "A lemmatizer exists: <WordNetLemmatizer>\n",
      "Words Tokenized: ['Indonesia', 'was', 'founded', 'in', '1945', '.', 'It', 'contains', 'the', 'most', 'populated', 'island', 'in', 'the', 'world', ',', 'Java', ',', 'with', 'over', '140', 'million', 'people', '.']\n",
      "Lemmatized Words: ['Indonesia', 'wa', 'founded', 'in', '1945', '.', 'It', 'contains', 'the', 'most', 'populated', 'island', 'in', 'the', 'world', ',', 'Java', ',', 'with', 'over', '140', 'million', 'people', '.']\n"
     ]
    }
   ],
   "source": [
    "# 6 - Lemmatizer\n",
    "\n",
    "# When you lemmatize words, you need to find their part of speech. This can be an inefficient step, especially when you have a large string.\n",
    "# Stemming is more efficient because it does not require the part of speech for each word.\n",
    "# Lemmatizer uses Part of Speech\n",
    "\n",
    "from nltk.tokenize import word_tokenize\n",
    "from nltk.stem import WordNetLemmatizer\n",
    "\n",
    "lemmatizer = WordNetLemmatizer()\n",
    "\n",
    "populated_island = 'Indonesia was founded in 1945. It contains the most populated island in the world, Java, with over 140 million people.'\n",
    "\n",
    "tokenized_string = word_tokenize(populated_island)\n",
    "\n",
    "lemmatized_words = [lemmatizer.lemmatize(token) for token in tokenized_string]\n",
    "\n",
    "try:\n",
    "    print(f'A lemmatizer exists: {lemmatizer}')\n",
    "except:\n",
    "    print('Expected a variable called `lemmatizer`')\n",
    "try:\n",
    "    print(f'Words Tokenized: {tokenized_string}')\n",
    "except:\n",
    "    print('Expected a variable called `tokenized_string`')\n",
    "try:\n",
    "    print(f'Lemmatized Words: {lemmatized_words}')\n",
    "except:\n",
    "    print('Expected a variable called `lemmatized_words`')"
   ]
  },
  {
   "cell_type": "markdown",
   "metadata": {},
   "source": [
    "### 7 - Part-of-Speech Tagging\n",
    "\n",
    "To improve the performance of lemmatization, we need to find the part of speech for each word in our string. In script.py, to the right, we created a part-of-speech tagging function. The function accepts a word, then returns the most common part of speech for that word. Let’s break down the steps:\n",
    "\n",
    "1. Import wordnet and Counter\n",
    "\n",
    "from nltk.corpus import wordnet<br>\n",
    "from collections import Counter<br>\n",
    "\n",
    "wordnet is a database that we use for contextualizing words, Counter is a container that stores elements as dictionary keys\n",
    "\n",
    "2. Get synonyms\n",
    "\n",
    "Inside of our function, we use the wordnet.synsets() function to get a set of synonyms for the word:\n",
    "\n",
    "def get_part_of_speech(word):<br>\n",
    "&nbsp;&nbsp;    probable_part_of_speech = wordnet.synsets(word)<br>\n",
    "\n",
    "The returned synonyms come with their part of speech.\n",
    "\n",
    "3. Use synonyms to determine the most likely part of speech<br>\n",
    "\n",
    "Next, we create a Counter() object and set each value to the count of the number of synonyms that fall into each part of speech:\n",
    "\n",
    "pos_counts[\"n\"] = len(  [ item for item in probable_part_of_speech if item.pos()==\"n\"]  )\n",
    "... \n",
    "This line counts the number of nouns in the synonym set.\n",
    "\n",
    "4. Return the most common part of speech<br>\n",
    "\n",
    "Now that we have a count for each part of speech, we can use the .most_common() counter method to find and return the most likely part of speech:\n",
    "\n",
    "most_likely_part_of_speech = pos_counts.most_common(1)[0][0]<br>\n",
    "\n",
    "Now that we can find the most probable part of speech for a given word, we can pass this into our lemmatizer when we find the root for each word. Let’s take a look at how we would do this for a tokenized string:\n",
    "\n",
    "tokenized = [\"How\", \"old\", \"is\", \"the\", \"country\", \"Indonesia\"]<br>\n",
    "lemmatized = [lemmatizer.lemmatize(token, get_part_of_speech(token)) for token in tokenized]<br>\n",
    "print(lemmatized)<br>\n",
    "OP: ['How', 'old', 'be', 'the', 'country', 'Indonesia']<br>\n",
    "OP: Previously: ['How', 'old', 'is', 'the', 'country', 'Indonesia']<br>\n",
    "\n",
    "Because we passed in the part of speech, “is” was cast to its root, “be.” This means that words like “was” and “were” will be cast to “be”."
   ]
  },
  {
   "cell_type": "code",
   "execution_count": 7,
   "metadata": {},
   "outputs": [],
   "source": [
    "# 7 - Create Parts of Speech Definition Function\n",
    "\n",
    "import nltk\n",
    "from nltk.corpus import wordnet\n",
    "from collections import Counter\n",
    "\n",
    "def get_part_of_speech(word):\n",
    "    probable_part_of_speech = wordnet.synsets(word)\n",
    "\n",
    "    pos_counts = Counter()\n",
    "\n",
    "    pos_counts[\"n\"] = len(  [ item for item in probable_part_of_speech if item.pos()==\"n\"]  )\n",
    "    pos_counts[\"v\"] = len(  [ item for item in probable_part_of_speech if item.pos()==\"v\"]  )\n",
    "    pos_counts[\"a\"] = len(  [ item for item in probable_part_of_speech if item.pos()==\"a\"]  )\n",
    "    pos_counts[\"r\"] = len(  [ item for item in probable_part_of_speech if item.pos()==\"r\"]  )\n",
    "\n",
    "    most_likely_part_of_speech = pos_counts.most_common(1)[0][0]\n",
    "    return most_likely_part_of_speech"
   ]
  },
  {
   "cell_type": "code",
   "execution_count": 8,
   "metadata": {},
   "outputs": [
    {
     "name": "stdout",
     "output_type": "stream",
     "text": [
      "The Tokenized Strings are:  ['Indonesia', 'was', 'founded', 'in', '1945', '.', 'It', 'contains', 'the', 'most', 'populated', 'island', 'in', 'the', 'world', ',', 'Java', ',', 'with', 'over', '140', 'million', 'people', '.']\n",
      "The Lemmatized Words are: ['Indonesia', 'be', 'found', 'in', '1945', '.', 'It', 'contain', 'the', 'most', 'populate', 'island', 'in', 'the', 'world', ',', 'Java', ',', 'with', 'over', '140', 'million', 'people', '.']\n"
     ]
    }
   ],
   "source": [
    "from nltk.tokenize import word_tokenize\n",
    "from nltk.stem import WordNetLemmatizer\n",
    "\n",
    "lemmatizer = WordNetLemmatizer()\n",
    "\n",
    "populated_island = 'Indonesia was founded in 1945. It contains the most populated island in the world, Java, with over 140 million people.'\n",
    "\n",
    "tokenized_string = word_tokenize(populated_island)\n",
    "print(\"The Tokenized Strings are: \", tokenized_string)\n",
    "\n",
    "lemmatized_pos = [lemmatizer.lemmatize(token, get_part_of_speech(token)) for token in tokenized_string]\n",
    "\n",
    "try:\n",
    "    print(f'The Lemmatized Words are: {lemmatized_pos}')\n",
    "except:\n",
    "    print('Expected a variable called `lemmatized_pos`')"
   ]
  },
  {
   "cell_type": "markdown",
   "metadata": {},
   "source": [
    "### Summary\n",
    "\n",
    "Before building a text preprocessing pipeline, it’s most important to have an idea of how you want your data formatted and why you want it formatted that way. Once you know what you want, you can use these tools to get you there.\n",
    "\n",
    "- Text preprocessing is all about cleaning and prepping text data so that it’s ready for other NLP tasks.\n",
    "- Noise removal is a text preprocessing step concerned with removing unnecessary formatting from our text.\n",
    "- Tokenization is a text preprocessing step devoted to breaking up text into smaller units (usually words or discrete terms).\n",
    "- Normalization is the name we give most other text preprocessing tasks, including stemming, lemmatization, upper and lowercasing, and stopword removal.\n",
    "- Stemming is the normalization preprocessing task focused on removing word affixes.\n",
    "- Lemmatization is the normalization preprocessing task that more carefully brings words down to their root forms."
   ]
  }
 ],
 "metadata": {
  "kernelspec": {
   "display_name": "Python 3",
   "language": "python",
   "name": "python3"
  },
  "language_info": {
   "codemirror_mode": {
    "name": "ipython",
    "version": 3
   },
   "file_extension": ".py",
   "mimetype": "text/x-python",
   "name": "python",
   "nbconvert_exporter": "python",
   "pygments_lexer": "ipython3",
   "version": "3.6.10"
  }
 },
 "nbformat": 4,
 "nbformat_minor": 4
}
