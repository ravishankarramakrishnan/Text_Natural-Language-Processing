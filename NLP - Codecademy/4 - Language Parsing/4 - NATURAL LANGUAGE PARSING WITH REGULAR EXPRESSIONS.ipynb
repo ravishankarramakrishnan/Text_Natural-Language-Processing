{
 "cells": [
  {
   "cell_type": "markdown",
   "metadata": {},
   "source": [
    "# Introduction\n",
    "\n",
    "Discovering new code words in declassified CIA documents may seem like a mission for a foreign intelligence service, and detecting [gender biases](https://medium.com/agatha-codes/a-bossy-sort-of-voice-3c3a18de3093) in the Harry Potter novels a task for a literature professor. Yet by utilizing natural language parsing with regular expressions, the power to perform such analyses is in your own hands!\n",
    "\n",
    "While you may not put much explicit thought into the structure of your sentences as you write, the syntax choices you make are critical in ensuring your writing has meaning. Analyzing such sentence structure as well as word choice can not only provide insights into the connotation of a piece text, but can also highlight the biases of its author or uncover additional insights that even a [deep, rigorous reading of the text might not reveal.](https://twitter.com/hexadecim8/status/1068215227274137605)\n",
    "\n",
    "By using Python’s regular expression modulere and the Natural Language Toolkit, known as NLTK, you can find keywords of interest, discover where and how often they are used, and discern the parts-of-speech patterns in which they appear to understand the sometimes hidden meaning in a piece of writing. Let’s get started!\n",
    "\n"
   ]
  },
  {
   "cell_type": "code",
   "execution_count": 1,
   "metadata": {},
   "outputs": [],
   "source": [
    "# Create a Chunk Counter\n",
    "from collections import Counter\n",
    "\n",
    "def np_chunk_counter(chunked_sentences):\n",
    "\n",
    "    # create a list to hold chunks\n",
    "    chunks = list()\n",
    "\n",
    "    # for-loop through each chunked sentence to extract noun phrase chunks\n",
    "    for chunked_sentence in chunked_sentences:\n",
    "        for subtree in chunked_sentence.subtrees(filter=lambda t: t.label() == 'NP'):\n",
    "            chunks.append(tuple(subtree))\n",
    "\n",
    "    # create a Counter object\n",
    "    chunk_counter = Counter()\n",
    "\n",
    "    # for-loop through the list of chunks\n",
    "    for chunk in chunks:\n",
    "        # increase counter of specific chunk by 1\n",
    "        chunk_counter[chunk] += 1\n",
    "\n",
    "    # return 30 most frequent chunks\n",
    "    return chunk_counter.most_common(30)"
   ]
  },
  {
   "cell_type": "code",
   "execution_count": 2,
   "metadata": {},
   "outputs": [
    {
     "name": "stdout",
     "output_type": "stream",
     "text": [
      "[((('i', 'NN'),), 326), ((('dorothy', 'NN'),), 222), ((('the', 'DT'), ('scarecrow', 'NN')), 213), ((('the', 'DT'), ('lion', 'NN')), 148), ((('the', 'DT'), ('tin', 'NN')), 123), ((('woodman', 'NN'),), 112), ((('oz', 'NN'),), 86), ((('toto', 'NN'),), 73), ((('head', 'NN'),), 59), ((('the', 'DT'), ('woodman', 'NN')), 59), ((('the', 'DT'), ('wicked', 'JJ'), ('witch', 'NN')), 58), ((('the', 'DT'), ('emerald', 'JJ'), ('city', 'NN')), 51), ((('the', 'DT'), ('witch', 'NN')), 49), ((('the', 'DT'), ('girl', 'NN')), 46), ((('the', 'DT'), ('road', 'NN')), 41), ((('room', 'NN'),), 29), ((('nothing', 'NN'),), 29), ((('the', 'DT'), ('air', 'NN')), 29), ((('the', 'DT'), ('country', 'NN')), 26), ((('the', 'DT'), ('land', 'NN')), 24), ((('a', 'DT'), ('heart', 'NN')), 24), ((('the', 'DT'), ('west', 'NN')), 23), ((('axe', 'NN'),), 23), ((('the', 'DT'), ('sun', 'NN')), 22), ((('the', 'DT'), ('little', 'JJ'), ('girl', 'NN')), 22), ((('course', 'NN'),), 22), ((('the', 'DT'), ('cowardly', 'JJ'), ('lion', 'NN')), 21), ((('aunt', 'NN'),), 21), ((('the', 'DT'), ('house', 'NN')), 21), ((('the', 'DT'), ('door', 'NN')), 21)]\n"
     ]
    }
   ],
   "source": [
    "# Chunking\n",
    "\n",
    "from nltk import RegexpParser\n",
    "from pos_tagged_oz import pos_tagged_oz\n",
    "\n",
    "# define noun-phrase chunk grammar here\n",
    "chunk_grammar = \"NP: {<DT>?<JJ>*<NN>}\"\n",
    "\n",
    "# create RegexpParser object here\n",
    "chunk_parser = RegexpParser(chunk_grammar)\n",
    "\n",
    "# create a list to hold noun-phrase chunked sentences\n",
    "np_chunked_oz = list()\n",
    "\n",
    "# create a for-loop through each pos-tagged sentence in pos_tagged_oz here\n",
    "for pos_tagged_sentence in pos_tagged_oz:\n",
    "  # chunk each sentence and append to np_chunked_oz here\n",
    "  np_chunked_oz.append(chunk_parser.parse(pos_tagged_sentence))\n",
    "\n",
    "# store and print the most common np-chunks here\n",
    "most_common_np_chunks = np_chunk_counter(np_chunked_oz)\n",
    "print(most_common_np_chunks)"
   ]
  },
  {
   "cell_type": "markdown",
   "metadata": {},
   "source": [
    "### 1 - Compiling and Matching\n",
    "\n",
    "Before you dive into more complex syntax parsing, you’ll begin with basic regular expressions in Python using the re module as a regex refresher.\n",
    "\n",
    "The first method you will explore is .compile(). This method takes a regular expression pattern as an argument and compiles the pattern into a regular expression object, which you can later use to find matching text. The regular expression object below will exactly match 4 upper or lower case characters.\n",
    "\n",
    "regular_expression_object = re.compile(\"[A-Za-z]{4}\")\n",
    "\n",
    "Regular expression objects have a .match() method that takes a string of text as an argument and looks for a single match to the regular expression that starts at the beginning of the string. To see if your regular expression matches the string \"Toto\" you can do the following:\n",
    "\n",
    "result = regular_expression_object.match(\"Toto\")\n",
    "\n",
    "If .match() finds a match that starts at the beginning of the string, it will return a match object. The match object lets you know what piece of text the regular expression matched, and at what index the match begins and ends. If there is no match, .match() will return None.\n",
    "\n",
    "With the match object stored in result, you can access the matched text by calling result.group(0). If you use a regex containing capture groups, you can access these groups by calling .group() with the appropriately numbered capture group as an argument.\n",
    "\n",
    "Instead of compiling the regular expression first and then looking for a match in separate lines of code, you can simplify your match to one line:\n",
    "\n",
    "result = re.match(\"[A-Za-z]{4}\",\"Toto\")\n",
    "\n",
    "With this syntax, re‘s .match() method takes a regular expression pattern as the first argument and a string as the second argument."
   ]
  },
  {
   "cell_type": "code",
   "execution_count": 3,
   "metadata": {},
   "outputs": [
    {
     "name": "stdout",
     "output_type": "stream",
     "text": [
      "<_sre.SRE_Match object; span=(0, 7), match='Dorothy'>\n",
      "Dorothy\n",
      "None\n"
     ]
    }
   ],
   "source": [
    "# 1 - Compiling and Matching\n",
    "\n",
    "import re\n",
    "\n",
    "# characters are defined\n",
    "character_1 = \"Dorothy\"\n",
    "character_2 = \"Henry\"\n",
    "\n",
    "# compile your regular expression here\n",
    "regular_expression = re.compile(\"\\w{7}\")\n",
    "\n",
    "# check for a match to character_1 here\n",
    "result_1 = regular_expression.match(character_1)\n",
    "print(result_1)\n",
    "\n",
    "# store and print the matched text here\n",
    "match_1 = result_1.group(0)\n",
    "print(match_1)\n",
    "\n",
    "# compile a regular expression to match a 7 character string of word characters and check for a match to character_2 here\n",
    "result_2 = re.match(\"\\w{7}\",character_2)\n",
    "print(result_2)"
   ]
  },
  {
   "cell_type": "markdown",
   "metadata": {},
   "source": [
    "### 2 - Searching and Finding\n",
    "\n",
    "You can make your regular expression matches even more dynamic with the help of the .search() method. Unlike .match() which will only find matches at the start of a string, .search() will look left to right through an entire piece of text and return a match object for the first match to the regular expression given. If no match is found, .search() will return None. For example, to search for a sequence of 8 word characters in the string Are you a Munchkin?:\n",
    "\n",
    "result = re.search(\"\\w{8}\",\"Are you a Munchkin?\")\n",
    "\n",
    "Using .search() on the string above will find a match of \"Munchkin\", while using .match() on the same string would return None!\n",
    "\n",
    "So far you have used methods that only return one piece of matching text. What if you want to find all the occurrences of a word or keyword in a piece of text to determine a frequency count? Step in the .findall() method!\n",
    "\n",
    "Given a regular expression as its first argument and a string as its second argument, .findall() will return a list of all non-overlapping matches of the regular expression in the string. Consider the below piece of text:\n",
    "\n",
    "text = \"Everything is green here, while in the country of the Munchkins blue was the favorite color. But the people do not seem to be as friendly as the Munchkins, and I'm afraid we shall be unable to find a place to pass the night.\"\n",
    "\n",
    "To find all non-overlapping sequences of 8 word characters in the sentence you can do the following:\n",
    "\n",
    "list_of_matches = re.findall(\"\\w{8}\",text)\n",
    "\n",
    ".findall() will thus return the list ['Everythi', 'Munchkin', 'favorite', 'friendly', 'Munchkin']."
   ]
  },
  {
   "cell_type": "code",
   "execution_count": 4,
   "metadata": {},
   "outputs": [
    {
     "name": "stdout",
     "output_type": "stream",
     "text": [
      "<_sre.SRE_Match object; span=(1528, 1533), match='Baker'>\n",
      "['Holmes', 'Holmes', 'Holmes', 'Holmes', 'Holmes', 'Holmes', 'Holmes', 'Holmes', 'Holmes', 'Holmes', 'Holmes', 'Holmes', 'Holmes', 'Holmes', 'Holmes', 'Holmes', 'Holmes', 'Holmes', 'Holmes', 'Holmes', 'Holmes', 'Holmes', 'Holmes', 'Holmes']\n",
      "24\n",
      "------------------------------\n",
      "def np_chunk_counter(chunked_sentences):\n",
      "\n",
      "    # create a list to hold chunks\n",
      "    chunks = list()\n",
      "\n",
      "    # for-loop through each chunked sentence to extract noun phrase chunks\n",
      "    for chunked_sentence in chunked_sentences:\n",
      "        for subtree in chunked_sentence.subtrees(filter=lambda t: t.label() == 'NP'):\n",
      "            chunks.append(tuple(subtree))\n",
      "\n",
      "    # create a Counter object\n",
      "    chunk_counter = Counter()\n",
      "\n",
      "    # for-loop through the list of chunks\n",
      "    for chunk in chunks:\n",
      "        # increase counter of specific chunk by 1\n",
      "        chunk_counter[chunk] += 1\n",
      "\n",
      "    # return 30 most frequent chunks\n",
      "    return chunk_counter.most_common(30)\n",
      "\n"
     ]
    }
   ],
   "source": [
    "# Searching and Finding\n",
    "\n",
    "import re\n",
    "from sherlock_holmes import bohemia_ch1\n",
    "\n",
    "# import L. Frank Baum's The Wonderful Wizard of Oz\n",
    "#oz_text = open(\"the_wizard_of_oz_text.txt\",encoding='utf-8').read().lower()\n",
    "\n",
    "oz_text = bohemia_ch1\n",
    "\n",
    "# search oz_text for an occurrence of 'Baker' here\n",
    "found_Baker = re.search(\"Baker\", oz_text)\n",
    "print(found_Baker)\n",
    "\n",
    "# find all the occurrences of 'Holmes' in oz_text here\n",
    "all_Holmes = re.findall(\"Holmes\", oz_text)\n",
    "print(all_Holmes)\n",
    "\n",
    "# store and print the length of all_lions here\n",
    "number_Holmes = len(all_Holmes)\n",
    "print(number_Holmes)\n",
    "\n",
    "print('-'*30)\n",
    "# To Inspect a Function, use\n",
    "\n",
    "import inspect\n",
    "print(inspect.getsource(np_chunk_counter))"
   ]
  },
  {
   "cell_type": "markdown",
   "metadata": {},
   "source": [
    "### 3 - Part-of-Speech Tagging\n",
    "\n",
    "While it is useful to match and search for patterns of individual characters in a text, you can often find more meaning by analyzing text on a word-by-word basis, focusing on the part of speech of each word in a sentence. This process of identifying and labeling the part of speech of words is known as part-of-speech tagging!\n",
    "\n",
    "It may have been a while since you’ve been in English class, so let’s review the nine parts of speech with an example:\n",
    "\n",
    "Wow! Ramona and her class are happily studying the new textbook she has on NLP.\n",
    "\n",
    "- Noun: the name of a person (Ramona,class), place, thing (textbook), or idea (NLP)\n",
    "- Pronoun: a word used in place of a noun (her,she)\n",
    "- Determiner: a word that introduces, or “determines”, a noun (the)\n",
    "- Verb: expresses action (studying) or being (are,has)\n",
    "- Adjective: modifies or describes a noun or pronoun (new)\n",
    "- Adverb: modifies or describes a verb, an adjective, or another adverb (happily)\n",
    "- Preposition: a word placed before a noun or pronoun to form a phrase modifying another word in the sentence (on)\n",
    "- Conjunction: a word that joins words, phrases, or clauses (and)\n",
    "- Interjection: a word used to express emotion (Wow)\n",
    "\n",
    "You can automate the part-of-speech tagging process with nltk‘s pos_tag() function! The function takes one argument, a list of words in the order they appear in a sentence, and returns a list of tuples, where the first entry in the tuple is a word and the second is the part-of-speech tag.\n",
    "\n",
    "Given the sentence split into a list of words below:\n",
    "\n",
    "word_sentence = ['do', 'you', 'suppose', 'oz', 'could', 'give', 'me', 'a', 'heart', '?']<br>\n",
    "\n",
    "you can tag the parts of speech as follows:\n",
    "\n",
    "part_of_speech_tagged_sentence = pos_tag(word_sentence) <br>\n",
    "The call to pos_tag() will return the following:\n",
    "\n",
    "[('do', 'VB'), ('you', 'PRP'), ('suppose', 'VB'), ('oz', 'NNS'), ('could', 'MD'), ('give', 'VB'), ('me', 'PRP'), ('a', 'DT'), ('heart', 'NN'), ('?', '.')]\n",
    "\n",
    "Abbreviations are given instead of the full part of speech name. Some common abbreviations include: NN for nouns, VB for verbs, RB for adverbs, JJ for adjectives, and DT for determiners. [A complete list of part-of-speech tags and their abbreviations can be found here.](https://www.ling.upenn.edu/courses/Fall_2003/ling001/penn_treebank_pos.html)"
   ]
  },
  {
   "cell_type": "code",
   "execution_count": 5,
   "metadata": {},
   "outputs": [
    {
     "name": "stdout",
     "output_type": "stream",
     "text": [
      "['``', 'the', 'house', 'must', 'have', 'fallen', 'on', 'her', '.']\n",
      "[('``', '``'), ('the', 'DT'), ('house', 'NN'), ('must', 'MD'), ('have', 'VB'), ('fallen', 'VBN'), ('on', 'IN'), ('her', 'PRP'), ('.', '.')]\n"
     ]
    }
   ],
   "source": [
    "# 4 - POS Tagging\n",
    "\n",
    "import nltk\n",
    "from nltk import pos_tag\n",
    "from word_tokenized_oz import word_tokenized_oz # Already Sentence Tokenized\n",
    "\n",
    "# save and print the sentence stored at index 100 in word_tokenized_oz here\n",
    "\n",
    "witches_fate = word_tokenized_oz[100]\n",
    "print(witches_fate)\n",
    "# ['``', 'the', 'house', 'must', 'have', 'fallen', 'on', 'her', '.']\n",
    "\n",
    "# create a list to hold part-of-speech tagged sentences here\n",
    "pos_tagged_oz  = list()\n",
    "\n",
    "# create a for loop through each word tokenized sentence in word_tokenized_oz here\n",
    "for text in word_tokenized_oz:\n",
    "  # part-of-speech tag each sentence and append to pos_tagged_oz here\n",
    "  pos_tagged_oz.append(pos_tag(text))\n",
    "\n",
    "# store and print the 101st part-of-speech tagged sentence here\n",
    "witches_fate_pos = pos_tagged_oz[100]\n",
    "# [('``', '``'), ('the', 'DT'), ('house', 'NN'), ('must', 'MD'), ('have', 'VB'), ('fallen', 'VBN'), ('on', 'IN'), ('her', 'PRP'), ('.', '.')]\n",
    "\n",
    "print(witches_fate_pos)"
   ]
  },
  {
   "cell_type": "markdown",
   "metadata": {},
   "source": [
    "### 4 - Introduction to Chunking\n",
    "\n",
    "You have made it to the juicy stuff! Given your part-of-speech tagged text, you can now use regular expressions to find patterns in sentence structure that give insight into the meaning of a text. This technique of grouping words by their part-of-speech tag is called chunking.\n",
    "\n",
    "With chunking in nltk, you can define a pattern of parts-of-speech tags using a modified notation of regular expressions. You can then find non-overlapping matches, or chunks of words, in the part-of-speech tagged sentences of a text.\n",
    "\n",
    "The regular expression you build to find chunks is called chunk grammar. A piece of chunk grammar can be written as follows:\n",
    "\n",
    "chunk_grammar = \"AN: {\\<\\JJ\\>\\<\\NN\\>\\}\"\n",
    "    \n",
    "AN is a user-defined name for the kind of chunk you are searching for. You can use whatever name makes sense given your chunk grammar. In this case AN stands for adjective-noun\n",
    "    \n",
    "A pair of curly braces {} surround the actual chunk grammar\n",
    "\n",
    "\\<\\JJ> operates similarly to a regex character class, matching any adjective\n",
    "\n",
    "\\<\\NN> matches any noun, singular or plural\n",
    "The chunk grammar above will thus match any adjective that is followed by a noun.\n",
    "\n",
    "To use the chunk grammar defined, you must create a nltk RegexpParser object and give it a piece of chunk grammar as an argument.\n",
    "\n",
    "chunk_parser = RegexpParser(chunk_grammar)\n",
    "\n",
    "You can then use the RegexpParser object’s .parse() method, which takes a list of part-of-speech tagged words as an argument, and identifies where such chunks occur in the sentence!\n",
    "\n",
    "Consider the part-of-speech tagged sentence below:\n",
    "\n",
    "pos_tagged_sentence = [('where', 'WRB'), ('is', 'VBZ'), ('the', 'DT'), ('emerald', 'JJ'), ('city', 'NN'), ('?', '.')]\n",
    " \n",
    "You can chunk the sentence to find any adjectives followed by a noun with the following:\n",
    "\n",
    "chunked = chunk_parser.parse(pos_tagged_sentence)\n"
   ]
  },
  {
   "cell_type": "code",
   "execution_count": 9,
   "metadata": {},
   "outputs": [
    {
     "name": "stdout",
     "output_type": "stream",
     "text": [
      "                         S                                    \n",
      "   ______________________|__________________________           \n",
      "  |       |       |      |     |    |               AN        \n",
      "  |       |       |      |     |    |        _______|_____     \n",
      "``/`` where/WRB is/VBZ the/DT ?/. ''/'' emerald/JJ     city/NN\n",
      "\n"
     ]
    }
   ],
   "source": [
    "# 4 - Chunking via Grammatical Joins\n",
    "\n",
    "from nltk import RegexpParser, Tree\n",
    "from pos_tagged_oz import pos_tagged_oz\n",
    "\n",
    "# define adjective-noun chunk grammar here - JJ - Adjective, NN - Noun\n",
    "chunk_grammar = \"AN: {<JJ><NN>}\"\n",
    "\n",
    "# create RegexpParser object here\n",
    "chunk_parser = RegexpParser(chunk_grammar)\n",
    "\n",
    "# chunk the pos-tagged sentence at index 282 in pos_tagged_oz here\n",
    "scaredy_cat = chunk_parser.parse(pos_tagged_oz[282])\n",
    "\n",
    "# pretty_print the chunked sentence here\n",
    "# Tree.fromstring(str(scaredy_cat)).pretty_print()\n",
    "Tree.fromstring(str(scaredy_cat)).pretty_print()"
   ]
  },
  {
   "cell_type": "markdown",
   "metadata": {},
   "source": [
    "#### Chunking Noun Phrases\n",
    "\n",
    "While you are able to chunk any sequence of parts of speech that you like, there are certain types of chunking that are linguistically helpful for determining meaning and bias in a piece of text. One such type of chunking is NP-chunking, or noun phrase chunking. A noun phrase is a phrase that contains a noun and operates, as a unit, as a noun.\n",
    "\n",
    "A popular form of noun phrase begins with a determiner DT, which specifies the noun being referenced, followed by any number of adjectives JJ, which describe the noun, and ends with a noun NN.\n",
    "\n",
    "Consider the part-of-speech tagged sentence below:\n",
    "\n",
    "[('we', 'PRP'), ('are', 'VBP'), ('so', 'RB'), ('grateful', 'JJ'), ('to', 'TO'), ('you', 'PRP'), ('for', 'IN'), ('having', 'VBG'), ('killed', 'VBN'), ('the', 'DT'), ('wicked', 'JJ'), ('witch', 'NN'), ('of', 'IN'), ('the', 'DT'), ('east', 'NN'), (',', ','), ('and', 'CC'), ('for', 'IN'), ('setting', 'VBG'), ('our', 'PRP$'), ('people', 'NNS'), ('free', 'VBP'), ('from', 'IN'), ('bondage', 'NN'), ('.', '.')]\n",
    "\n",
    "Can you spot the three noun phrases of the form described above? They are:\n",
    "\n",
    "(('the', 'DT'), ('wicked', 'JJ'), ('witch', 'NN')) <br>\n",
    "(('the', 'DT'), ('east', 'NN'))<br>\n",
    "(('bondage', 'NN'))<br>\n",
    "\n",
    "With the help of a regular expression defined chunk grammar, you can easily find all the non-overlapping noun phrases in a piece of text! Just like in normal regular expressions, you can use quantifiers to indicate how many of each part of speech you want to match.\n",
    "\n",
    "The chunk grammar for a noun phrase can be written as follows:\n",
    "\n",
    "chunk_grammar = \"NP: {<DT>?<JJ>*<NN>}\"<br>\n",
    "\n",
    "- NP is the user-defined name of the chunk you are searching for. In this case NP stands for noun phrase<br>\n",
    "- <DT> matches any determiner<br>\n",
    "- ? is an optional quantifier, matching either 0 or 1 determiners<br>\n",
    "- <JJ> matches any adjective<br>\n",
    "- \\* is the Kleene star quantifier, matching 0 or more occurrences of an adjective<br>\n",
    "- <NN> matches any noun, singular or plural<br>\n",
    "\n",
    "By finding all the NP-chunks in a text, you can perform a frequency analysis and identify important, recurring noun phrases. <br>\n",
    "You can also use these NP-chunks as pseudo-topics and tag articles and documents by their highest count NP-chunks! Or perhaps your analysis has you looking at the adjective choices an author makes for different nouns.\n",
    "\n",
    "It is ultimately up to you, with your knowledge of the text you are working with, to interpret the meaning and use-case of the NP-chunks and their frequency of occurrence."
   ]
  },
  {
   "cell_type": "code",
   "execution_count": 11,
   "metadata": {},
   "outputs": [
    {
     "name": "stdout",
     "output_type": "stream",
     "text": [
      "[((('i', 'NN'),), 326), ((('dorothy', 'NN'),), 222), ((('the', 'DT'), ('scarecrow', 'NN')), 213), ((('the', 'DT'), ('lion', 'NN')), 148), ((('the', 'DT'), ('tin', 'NN')), 123), ((('woodman', 'NN'),), 112), ((('oz', 'NN'),), 86), ((('toto', 'NN'),), 73), ((('head', 'NN'),), 59), ((('the', 'DT'), ('woodman', 'NN')), 59), ((('the', 'DT'), ('wicked', 'JJ'), ('witch', 'NN')), 58), ((('the', 'DT'), ('emerald', 'JJ'), ('city', 'NN')), 51), ((('the', 'DT'), ('witch', 'NN')), 49), ((('the', 'DT'), ('girl', 'NN')), 46), ((('the', 'DT'), ('road', 'NN')), 41), ((('room', 'NN'),), 29), ((('nothing', 'NN'),), 29), ((('the', 'DT'), ('air', 'NN')), 29), ((('the', 'DT'), ('country', 'NN')), 26), ((('the', 'DT'), ('land', 'NN')), 24), ((('a', 'DT'), ('heart', 'NN')), 24), ((('the', 'DT'), ('west', 'NN')), 23), ((('axe', 'NN'),), 23), ((('the', 'DT'), ('sun', 'NN')), 22), ((('the', 'DT'), ('little', 'JJ'), ('girl', 'NN')), 22), ((('course', 'NN'),), 22), ((('the', 'DT'), ('cowardly', 'JJ'), ('lion', 'NN')), 21), ((('aunt', 'NN'),), 21), ((('the', 'DT'), ('house', 'NN')), 21), ((('the', 'DT'), ('door', 'NN')), 21)]\n"
     ]
    }
   ],
   "source": [
    "# A popular form of noun phrase begins with a determiner DT, which specifies the noun being referenced, followed by any number \n",
    "# of adjectives JJ, which describe the noun, and ends with a noun NN.\n",
    "# Eg: (('the', 'DT'), ('wicked', 'JJ'), ('witch', 'NN'))\n",
    "#     (('the', 'DT'), ('east', 'NN'))\n",
    "#     (('bondage', 'NN'))\n",
    "\n",
    "# Finding all the non-overlapping noun phrases in a piece of text\n",
    "from nltk import RegexpParser\n",
    "\n",
    "# define noun-phrase chunk grammar here\n",
    "chunk_grammar = \"NP: {<DT>?<JJ>*<NN>}\"\n",
    "\n",
    "# create RegexpParser object here\n",
    "chunk_parser = RegexpParser(chunk_grammar)\n",
    "\n",
    "# create a list to hold noun-phrase chunked sentences\n",
    "np_chunked_oz = list()\n",
    "\n",
    "# create a for loop through each pos-tagged sentence in pos_tagged_oz here\n",
    "\n",
    "for token in pos_tagged_oz: # pos_tagged_oz is already mapped and imported from text file\n",
    "  # chunk each sentence and append to np_chunked_oz here\n",
    "    chunked_sent = chunk_parser.parse(token)\n",
    "    np_chunked_oz.append(chunked_sent)\n",
    "\n",
    "# store and print the most common np-chunks here, np_chunk_counter Function is already Defined first\n",
    "\n",
    "most_common_np_chunks = np_chunk_counter(np_chunked_oz)\n",
    "print(most_common_np_chunks)"
   ]
  },
  {
   "cell_type": "markdown",
   "metadata": {},
   "source": [
    "#### Chunking Verb Phrases\n",
    "\n",
    "Another popular type of chunking is VP-chunking, or verb phrase chunking. A verb phrase is a phrase that contains a verb and its complements, objects, or modifiers.\n",
    "\n",
    "Verb phrases can take a variety of structures, and here you will consider two. The first structure begins with a verb VB of any tense, followed by a noun phrase, and ends with an optional adverb RB of any form. The second structure switches the order of the verb and the noun phrase, but also ends with an optional adverb.\n",
    "\n",
    "Both structures are considered because verb phrases of each form are essentially the same in meaning. For example, consider the part-of-speech tagged verb phrases given below:\n",
    "\n",
    "(('said', 'VBD'), ('the', 'DT'), ('cowardly', 'JJ'), ('lion', 'NN'))\n",
    "('the', 'DT'), ('cowardly', 'JJ'), ('lion', 'NN')), (('said', 'VBD'),\n",
    "\n",
    "The chunk grammar to find the first form of verb phrase is given below:\n",
    "\n",
    "- chunk_grammar = \"VP: {<VB.*><DT>?<JJ>*<NN><RB.?>?}\"\n",
    "- VP is the user-defined name of the chunk you are searching for. In this case VP stands for verb phrase\n",
    "- <VB.*> matches any verb using the . as a wildcard and the * quantifier to match 0 or more occurrences of any character. This ensures matching verbs of any tense (ex. VB for present tense, VBD for past tense, or VBN for past participle)\n",
    "- <DT>?<JJ>*<NN> matches any noun phrase\n",
    "- <RB.?> matches any adverb using the . as a wildcard and the optional quantifier to match 0 or 1 occurrence of any character. This ensures matching any form of adverb (regular RB, comparative RBR, or superlative RBS)\n",
    "- ? is an optional quantifier, matching either 0 or 1 adverbs\n",
    "\n",
    "The chunk grammar for the second form of verb phrase is given below:\n",
    "\n",
    "chunk_grammar = \"VP: {<DT>?<JJ>*<NN><VB.*><RB.?>?}\"\n",
    " \n",
    "Just like with NP-chunks, you can find all the VP-chunks in a text and perform a frequency analysis to identify important, recurring verb phrases. These verb phrases can give insight into what kind of action different characters take or how the actions that characters take are described by the author.\n",
    "\n",
    "Once again, this is the part of the analysis where you get to be creative and use your own knowledge about the text you are working with to find interesting insights!"
   ]
  },
  {
   "cell_type": "code",
   "execution_count": 12,
   "metadata": {},
   "outputs": [],
   "source": [
    "# Create Chunk COunter Function for Verb - Pronoun\n",
    "\n",
    "from collections import Counter\n",
    "\n",
    "# function that pulls chunks out of chunked sentence and finds the most common chunks\n",
    "def vp_chunk_counter(chunked_sentences):\n",
    "\n",
    "    # create a list to hold chunks\n",
    "    chunks = list()\n",
    "\n",
    "    # for-loop through each chunked sentence to extract verb phrase chunks\n",
    "    for chunked_sentence in chunked_sentences:\n",
    "        for subtree in chunked_sentence.subtrees(filter=lambda t: t.label() == 'VP'):\n",
    "            chunks.append(tuple(subtree))\n",
    "\n",
    "    # create a Counter object\n",
    "    chunk_counter = Counter()\n",
    "\n",
    "    # for-loop through the list of chunks\n",
    "    for chunk in chunks:\n",
    "        # increase counter of specific chunk by 1\n",
    "        chunk_counter[chunk] += 1\n",
    "\n",
    "    # return 30 most frequent chunks\n",
    "    return chunk_counter.most_common(30)"
   ]
  },
  {
   "cell_type": "code",
   "execution_count": 15,
   "metadata": {},
   "outputs": [
    {
     "name": "stdout",
     "output_type": "stream",
     "text": [
      "[((('i', 'NN'), ('am', 'VBP')), 24), ((('i', 'NN'), ('was', 'VBD')), 17), ((('dorothy', 'NN'), ('was', 'VBD')), 13), ((('i', 'NN'), ('have', 'VBP')), 9), ((('i', 'NN'), ('know', 'VBP')), 8), ((('i', 'NN'), ('had', 'VBD')), 8), ((('dorothy', 'NN'), ('had', 'VBD')), 7), ((('oz', 'NN'), ('had', 'VBD')), 7), ((('the', 'DT'), ('scarecrow', 'NN'), ('said', 'VBD')), 6), ((('i', 'NN'), ('am', 'VBP'), ('oz', 'RB')), 6), ((('oz', 'NN'), ('was', 'VBD')), 6), ((('toto', 'NN'), ('did', 'VBD'), ('not', 'RB')), 5), ((('dorothy', 'NN'), ('looked', 'VBD')), 5), ((('i', 'NN'), ('have', 'VBP'), ('never', 'RB')), 5), ((('the', 'DT'), ('wicked', 'JJ'), ('witch', 'NN'), ('had', 'VBD')), 5), ((('i', 'NN'), (\"'m\", 'VBP')), 5), ((('i', 'NN'), ('do', 'VBP'), (\"n't\", 'RB')), 5), ((('i', 'NN'), ('want', 'VBP')), 5), ((('the', 'DT'), ('scarecrow', 'NN'), ('had', 'VBD')), 5), ((('the', 'DT'), ('balloon', 'NN'), ('was', 'VBD')), 4), ((('the', 'DT'), ('cyclone', 'NN'), ('had', 'VBD')), 4), ((('i', 'NN'), ('came', 'VBD')), 4), ((('the', 'DT'), ('wicked', 'JJ'), ('witch', 'NN'), ('was', 'VBD')), 4), ((('dorothy', 'NN'), ('did', 'VBD'), ('not', 'RB')), 4), ((('woodman', 'NN'), ('had', 'VBD')), 4), ((('i', 'NN'), ('suppose', 'VBP')), 4), ((('the', 'DT'), ('lion', 'NN'), ('was', 'VBD')), 4), ((('toto', 'NN'), ('had', 'VBD')), 4), ((('oz', 'NN'), ('has', 'VBZ')), 4), ((('dorothy', 'NN'), ('found', 'VBD')), 3)]\n"
     ]
    }
   ],
   "source": [
    "# Chunking Verb Phrases\n",
    "\n",
    "from nltk import RegexpParser\n",
    "\n",
    "\"\"\"\n",
    "VP is the user-defined name of the chunk you are searching for. In this case VP stands for verb phrase\n",
    "<VB.*> matches any verb using the . as a wildcard and the * quantifier to match 0 or more occurrences of any character. This ensures matching verbs of any tense (ex. VB for present tense, VBD for past tense, or VBN for past participle)\n",
    "<DT>?<JJ>*<NN> matches any noun phrase\n",
    "<RB.?> matches any adverb using the . as a wildcard and the optional quantifier to match 0 or 1 occurrence of any character. This ensures matching any form of adverb (regular RB, comparative RBR, or superlative RBS)\n",
    "? is an optional quantifier, matching either 0 or 1 adverbs\n",
    "\"\"\"\n",
    "\n",
    "\n",
    "# define verb phrase chunk grammar here\n",
    "chunk_grammar = \"VP: {<VB.*><DT>?<JJ>*<NN><RB.?>?}\"\n",
    "\n",
    "# grammar to find a verb phrase of the following form: noun phrase, followed by a verb VB, followed by an optional adverb RB\n",
    "chunk_grammar = \"VP: {<DT>?<JJ>*<NN><VB.*><RB.?>?}\"\n",
    "\n",
    "# create RegexpParser object here\n",
    "chunk_parser = RegexpParser(chunk_grammar)\n",
    "\n",
    "# create a list to hold verb-phrase chunked sentences\n",
    "vp_chunked_oz = list()\n",
    "\n",
    "# create for loop through each pos-tagged sentence in pos_tagged_oz here\n",
    "for token in pos_tagged_oz:\n",
    "  # chunk each sentence and append to vp_chunked_oz here\n",
    "    vp_chunked_oz.append(chunk_parser.parse(token))\n",
    "    \n",
    "# store and print the most common vp-chunks here\n",
    "most_common_vp_chunks = vp_chunk_counter(vp_chunked_oz)\n",
    "print(most_common_vp_chunks)"
   ]
  },
  {
   "cell_type": "markdown",
   "metadata": {},
   "source": [
    "#### Chunk Filtering\n",
    "\n",
    "Another option you have to find chunks in your text is chunk filtering. Chunk filtering lets you define what parts of speech you do not want in a chunk and remove them.\n",
    "\n",
    "A popular method for performing chunk filtering is to chunk an entire sentence together and then indicate which parts of speech are to be filtered out. If the filtered parts of speech are in the middle of a chunk, it will split the chunk into two separate chunks! The chunk grammar you can use to perform chunk filtering is given below:\n",
    "\n",
    "chunk_grammar = \"\"\"NP: {<.*>+}\n",
    "                       }<VB.?|IN>+{\"\"\"\n",
    "\n",
    "NP is the user-defined name of the chunk you are searching for. In this case NP stands for noun phrase\n",
    "\n",
    "The brackets {} indicate what parts of speech you are chunking. <.*>+ matches every part of speech in the sentence\n",
    "\n",
    "The inverted brackets }{ indicate which parts of speech you want to filter from the chunk. <VB.?|IN>+ will filter out any verbs or prepositions\n",
    "\n",
    "Chunk filtering provides an alternate way for you to search through a text and find the chunks of information useful for your analysis!"
   ]
  },
  {
   "cell_type": "code",
   "execution_count": 16,
   "metadata": {},
   "outputs": [
    {
     "name": "stdout",
     "output_type": "stream",
     "text": [
      "(S\n",
      "  (Chunk\n",
      "    then/RB\n",
      "    she/PRP\n",
      "    sat/VBD\n",
      "    upon/IN\n",
      "    a/DT\n",
      "    settee/NN\n",
      "    and/CC\n",
      "    watched/VBD\n",
      "    the/DT\n",
      "    people/NNS\n",
      "    dance/NN\n",
      "    ./.))\n",
      "(S\n",
      "  (NP then/RB she/PRP)\n",
      "  sat/VBD\n",
      "  upon/IN\n",
      "  (NP a/DT settee/NN and/CC)\n",
      "  watched/VBD\n",
      "  (NP the/DT people/NNS dance/NN ./.))\n",
      "                                                 S                                                  \n",
      "    _____________________________________________|_______________________________                    \n",
      "   |       |         |               NP                  NP                      NP                 \n",
      "   |       |         |          _____|_____       _______|_______        ________|________________   \n",
      "sat/VBD upon/IN watched/VBD then/RB     she/PRP a/DT settee/NN and/CC the/DT people/NNS dance/NN ./.\n",
      "\n"
     ]
    }
   ],
   "source": [
    "# Chunking by Filtering\n",
    "\n",
    "from nltk import RegexpParser, Tree\n",
    "\n",
    "# define chunk grammar to chunk an entire sentence together\n",
    "grammar = \"Chunk: {<.*>+}\"\n",
    "\n",
    "# create RegexpParser object\n",
    "parser = RegexpParser(grammar)\n",
    "\n",
    "# chunk the pos-tagged sentence at index 230 in pos_tagged_oz\n",
    "chunked_dancers = parser.parse(pos_tagged_oz[230])\n",
    "print(chunked_dancers)\n",
    "\n",
    "# define noun phrase chunk grammar using chunk filtering here\n",
    "chunk_grammar = \"\"\"NP: {<.*>+}\n",
    "                       }<VB.?|IN>+{\"\"\"\n",
    "\n",
    "# create RegexpParser object here\n",
    "chunk_parser = RegexpParser(chunk_grammar)\n",
    "\n",
    "# chunk and filter the pos-tagged sentence at index 230 in pos_tagged_oz here\n",
    "filtered_dancers = chunk_parser.parse(pos_tagged_oz[230])\n",
    "print(filtered_dancers)\n",
    "\n",
    "\n",
    "# pretty_print the chunked and filtered sentence here\n",
    "# Tree.fromstring(str(filtered_dancers)).pretty_print()\n",
    "Tree.fromstring(str(filtered_dancers)).pretty_print()"
   ]
  },
  {
   "cell_type": "markdown",
   "metadata": {},
   "source": [
    "### Review\n",
    "\n",
    "And there you go! Now you have the toolkit to dig into any piece of text data and perform natural language parsing with regular expressions. What insights will you gain, or what bias may you uncover? Let’s review what you have learned:\n",
    "\n",
    "- The re module’s .compile() and .match() methods allow you to enter any regex pattern and look for a single match at the beginning of a piece of text\n",
    "- The re module’s .search() method lets you find a single match to a regex pattern anywhere in a string, while the .findall() method finds all the matches of a regex pattern in a string\n",
    "- Part-of-speech tagging identifies and labels the part of speech of words in a sentence, and can be performed in nltk using the pos_tag() function\n",
    "- Chunking groups together patterns of words by their part-of-speech tag. Chunking can be performed in nltk by defining a piece of chunk grammar using regular expression syntax and calling a RegexpParser‘s .parse() method on a word tokenized sentence\n",
    "- NP-chunking chunks together an optional determiner DT, any number of adjectives JJ, and a noun NN to form a noun phrase. The frequency of different NP-chunks can identify important topics in a text or demonstrate how an author describes different subjects\n",
    "- VP-chunking chunks together a verb VB, a noun phrase, and an optional adverb RB to form a verb phrase. The frequency of different VP-chunks can give insight into what kind of action different subjects take or how the actions that different subjects take are described by an author, potentially indicating bias\n",
    "- Chunk filtering provides an alternative means of chunking by specifying what parts of speech you do not want in a chunk and removing them"
   ]
  },
  {
   "attachments": {
    "image.png": {
     "image/png": "[encoded data removed]"
    }
   },
   "cell_type": "markdown",
   "metadata": {},
   "source": [
    "![image.png](attachment:image.png)"
   ]
  },
  {
   "attachments": {
    "image.png": {
     "image/png": "[encoded data removed]"
    }
   },
   "cell_type": "markdown",
   "metadata": {},
   "source": [
    "![image.png](attachment:image.png)"
   ]
  },
  {
   "attachments": {
    "image.png": {
     "image/png": "[encoded data removed]"
    }
   },
   "cell_type": "markdown",
   "metadata": {},
   "source": [
    "![image.png](attachment:image.png)"
   ]
  },
  {
   "cell_type": "markdown",
   "metadata": {},
   "source": [
    "<b>Verb phrase chunking</b> is useful for gaining insight into the action that characters and subjects take as well as how that action is described by the author.\n",
    "\n",
    "The .parse() method uses the RegexpParser‘s chunk grammar to chunk a sentence that is passed to it\n",
    "\n",
    ".search() will scan through text from left to right looking for the first 7 character word sequence, which is \"pretend\"."
   ]
  },
  {
   "cell_type": "code",
   "execution_count": null,
   "metadata": {},
   "outputs": [],
   "source": []
  }
 ],
 "metadata": {
  "kernelspec": {
   "display_name": "Python 3",
   "language": "python",
   "name": "python3"
  },
  "language_info": {
   "codemirror_mode": {
    "name": "ipython",
    "version": 3
   },
   "file_extension": ".py",
   "mimetype": "text/x-python",
   "name": "python",
   "nbconvert_exporter": "python",
   "pygments_lexer": "ipython3",
   "version": "3.6.10"
  }
 },
 "nbformat": 4,
 "nbformat_minor": 4
}
