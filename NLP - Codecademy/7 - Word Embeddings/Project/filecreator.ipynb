{
 "cells": [
  {
   "cell_type": "code",
   "execution_count": 1,
   "metadata": {},
   "outputs": [],
   "source": [
    "lists = [\"1789-Washington.txt\",\n",
    "\"1793-Washington.txt\",\n",
    "\"1797-John-Adams.txt\",\n",
    "\"1801-Jefferson.txt\",\n",
    "\"1805-Jefferson.txt\",\n",
    "\"1809-Madison.txt\",\n",
    "\"1813-Madison.txt\",\n",
    "\"1817-Monroe.txt\",\n",
    "\"1821-Monroe.txt\",\n",
    "\"1825-John-Q-Adams.txt\",\n",
    "\"1829-Jackson.txt\",\n",
    "\"1833-Jackson.txt\",\n",
    "\"1837-VanBuren.txt\",\n",
    "\"1841-William-Harrison.txt\",\n",
    "\"1845-Polk.txt\",\n",
    "\"1849-Taylor.txt\",\n",
    "\"1853-Pierce.txt\",\n",
    "\"1857-Buchanan.txt\",\n",
    "\"1861-Lincoln.txt\",\n",
    "\"1865-Lincoln.txt\",\n",
    "\"1869-Grant.txt\",\n",
    "\"1873-Grant.txt\",\n",
    "\"1877-Hayes.txt\",\n",
    "\"1881-Garfield.txt\",\n",
    "\"1885-Cleveland.txt\",\n",
    "\"1889-Benjamin-Harrison.txt\",\n",
    "\"1893-Cleveland.txt\",\n",
    "\"1897-McKinley.txt\",\n",
    "\"1901-McKinley.txt\",\n",
    "\"1905-Theodore-Roosevelt.txt\",\n",
    "\"1909-Taft.txt\",\n",
    "\"1913-Wilson.txt\",\n",
    "\"1917-Wilson.txt\",\n",
    "\"1921-Harding.txt\",\n",
    "\"1925-Coolidge.txt\",\n",
    "\"1929-Hoover.txt\",\n",
    "\"1933-Franklin-D-Roosevelt.txt\",\n",
    "\"1937-Franklin-D-Roosevelt.txt\",\n",
    "\"1941-Franklin-D-Roosevelt.txt\",\n",
    "\"1945-Franklin-D-Roosevelt.txt\",\n",
    "\"1949-Truman.txt\",\n",
    "\"1953-Eisenhower.txt\",\n",
    "\"1957-Eisenhower.txt\",\n",
    "\"1961-Kennedy.txt\",\n",
    "\"1965-Lyndon-Johnson.txt\",\n",
    "\"1969-Nixon.txt\",\n",
    "\"1973-Nixon.txt\",\n",
    "\"1977-Carter.txt\",\n",
    "\"1981-Reagan.txt\",\n",
    "\"1985-Reagan.txt\",\n",
    "\"1989-George-HW-Bush.txt\",\n",
    "\"1993-Clinton.txt\",\n",
    "\"1997-Clinton.txt\",\n",
    "\"2001-George-W-Bush.txt\",\n",
    "\"2005-George-W-Bush.txt\",\n",
    "\"2009-Obama.txt\",\n",
    "\"2013-Obama.txt\",\n",
    "\"2017-Trump.txt\",\n",
    "]"
   ]
  },
  {
   "cell_type": "code",
   "execution_count": 2,
   "metadata": {},
   "outputs": [],
   "source": [
    "for i in lists:\n",
    "    open(i, \"w\")"
   ]
  }
 ],
 "metadata": {
  "kernelspec": {
   "display_name": "Python 3",
   "language": "python",
   "name": "python3"
  },
  "language_info": {
   "codemirror_mode": {
    "name": "ipython",
    "version": 3
   },
   "file_extension": ".py",
   "mimetype": "text/x-python",
   "name": "python",
   "nbconvert_exporter": "python",
   "pygments_lexer": "ipython3",
   "version": "3.6.10"
  }
 },
 "nbformat": 4,
 "nbformat_minor": 4
}
